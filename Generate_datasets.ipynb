{
 "cells": [
  {
   "cell_type": "code",
   "execution_count": 1,
   "id": "53ad4d71-df9a-412c-85e3-19baea29d9e0",
   "metadata": {},
   "outputs": [],
   "source": [
    "import scanpy as sc\n",
    "from scFates.tools.utils import get_X\n",
    "import pandas as pd\n",
    "import numpy as np"
   ]
  },
  {
   "cell_type": "code",
   "execution_count": 2,
   "id": "e6aad635-2927-4e7a-a210-f738e6982910",
   "metadata": {},
   "outputs": [],
   "source": [
    "adata=sc.read(\"data/adata_aligned.h5ad\")"
   ]
  },
  {
   "cell_type": "code",
   "execution_count": 3,
   "id": "32721d5b-9023-4a92-80ab-97944f89a817",
   "metadata": {},
   "outputs": [],
   "source": [
    "adata.obs[\"annot\"]=adata.obs.leiden.astype(str).replace([\"18\",\"19\"],[\"HC\",\"OM\"])"
   ]
  },
  {
   "cell_type": "code",
   "execution_count": 4,
   "id": "a023ee3b-5045-4303-b5e7-944a3eb863ca",
   "metadata": {},
   "outputs": [],
   "source": [
    "adata.obs.loc[~adata.obs.annot.isin([\"HC\",\"OM\"]),\"annot\"]=\"SGN\""
   ]
  },
  {
   "cell_type": "markdown",
   "id": "5cadb833-2dd5-4c95-8cca-c9bc476b4c18",
   "metadata": {},
   "source": [
    "###### 2274-135"
   ]
  },
  {
   "cell_type": "code",
   "execution_count": 5,
   "id": "0f3b26e2-5904-4912-925d-7ec8a9fadc4f",
   "metadata": {},
   "outputs": [
    {
     "data": {
      "text/plain": [
       "E18.5    677\n",
       "E16.5    661\n",
       "P3       500\n",
       "E15.5    229\n",
       "E14.5    135\n",
       "E17.5     72\n",
       "Name: devtime, dtype: int64"
      ]
     },
     "execution_count": 5,
     "metadata": {},
     "output_type": "execute_result"
    }
   ],
   "source": [
    "adata.obs.devtime.value_counts()"
   ]
  },
  {
   "cell_type": "code",
   "execution_count": 6,
   "id": "ddd91dee-0d35-4ddb-a0d0-8e1eb995b13e",
   "metadata": {},
   "outputs": [],
   "source": [
    "gr=adata.obs.groupby([\"devtime\",\"annot\"])"
   ]
  },
  {
   "cell_type": "code",
   "execution_count": 7,
   "id": "5262a31a-c531-482d-a6ea-9f177598e076",
   "metadata": {},
   "outputs": [
    {
     "data": {
      "text/html": [
       "<div>\n",
       "<style scoped>\n",
       "    .dataframe tbody tr th:only-of-type {\n",
       "        vertical-align: middle;\n",
       "    }\n",
       "\n",
       "    .dataframe tbody tr th {\n",
       "        vertical-align: top;\n",
       "    }\n",
       "\n",
       "    .dataframe thead th {\n",
       "        text-align: right;\n",
       "    }\n",
       "</style>\n",
       "<table border=\"1\" class=\"dataframe\">\n",
       "  <thead>\n",
       "    <tr style=\"text-align: right;\">\n",
       "      <th></th>\n",
       "      <th></th>\n",
       "      <th>batch</th>\n",
       "      <th>plate</th>\n",
       "      <th>n_genes_by_counts</th>\n",
       "      <th>total_counts</th>\n",
       "      <th>total_counts_ERCC</th>\n",
       "      <th>pct_counts_ERCC</th>\n",
       "      <th>leiden</th>\n",
       "    </tr>\n",
       "    <tr>\n",
       "      <th>devtime</th>\n",
       "      <th>annot</th>\n",
       "      <th></th>\n",
       "      <th></th>\n",
       "      <th></th>\n",
       "      <th></th>\n",
       "      <th></th>\n",
       "      <th></th>\n",
       "      <th></th>\n",
       "    </tr>\n",
       "  </thead>\n",
       "  <tbody>\n",
       "    <tr>\n",
       "      <th rowspan=\"3\" valign=\"top\">E14.5</th>\n",
       "      <th>HC</th>\n",
       "      <td>0</td>\n",
       "      <td>0</td>\n",
       "      <td>0</td>\n",
       "      <td>0</td>\n",
       "      <td>0</td>\n",
       "      <td>0</td>\n",
       "      <td>0</td>\n",
       "    </tr>\n",
       "    <tr>\n",
       "      <th>OM</th>\n",
       "      <td>53</td>\n",
       "      <td>53</td>\n",
       "      <td>53</td>\n",
       "      <td>53</td>\n",
       "      <td>53</td>\n",
       "      <td>53</td>\n",
       "      <td>53</td>\n",
       "    </tr>\n",
       "    <tr>\n",
       "      <th>SGN</th>\n",
       "      <td>82</td>\n",
       "      <td>82</td>\n",
       "      <td>82</td>\n",
       "      <td>82</td>\n",
       "      <td>82</td>\n",
       "      <td>82</td>\n",
       "      <td>82</td>\n",
       "    </tr>\n",
       "    <tr>\n",
       "      <th rowspan=\"3\" valign=\"top\">E15.5</th>\n",
       "      <th>HC</th>\n",
       "      <td>0</td>\n",
       "      <td>0</td>\n",
       "      <td>0</td>\n",
       "      <td>0</td>\n",
       "      <td>0</td>\n",
       "      <td>0</td>\n",
       "      <td>0</td>\n",
       "    </tr>\n",
       "    <tr>\n",
       "      <th>OM</th>\n",
       "      <td>68</td>\n",
       "      <td>68</td>\n",
       "      <td>68</td>\n",
       "      <td>68</td>\n",
       "      <td>68</td>\n",
       "      <td>68</td>\n",
       "      <td>68</td>\n",
       "    </tr>\n",
       "    <tr>\n",
       "      <th>SGN</th>\n",
       "      <td>161</td>\n",
       "      <td>161</td>\n",
       "      <td>161</td>\n",
       "      <td>161</td>\n",
       "      <td>161</td>\n",
       "      <td>161</td>\n",
       "      <td>161</td>\n",
       "    </tr>\n",
       "    <tr>\n",
       "      <th rowspan=\"3\" valign=\"top\">E16.5</th>\n",
       "      <th>HC</th>\n",
       "      <td>8</td>\n",
       "      <td>8</td>\n",
       "      <td>8</td>\n",
       "      <td>8</td>\n",
       "      <td>8</td>\n",
       "      <td>8</td>\n",
       "      <td>8</td>\n",
       "    </tr>\n",
       "    <tr>\n",
       "      <th>OM</th>\n",
       "      <td>73</td>\n",
       "      <td>73</td>\n",
       "      <td>73</td>\n",
       "      <td>73</td>\n",
       "      <td>73</td>\n",
       "      <td>73</td>\n",
       "      <td>73</td>\n",
       "    </tr>\n",
       "    <tr>\n",
       "      <th>SGN</th>\n",
       "      <td>580</td>\n",
       "      <td>580</td>\n",
       "      <td>580</td>\n",
       "      <td>580</td>\n",
       "      <td>580</td>\n",
       "      <td>580</td>\n",
       "      <td>580</td>\n",
       "    </tr>\n",
       "    <tr>\n",
       "      <th rowspan=\"3\" valign=\"top\">E17.5</th>\n",
       "      <th>HC</th>\n",
       "      <td>1</td>\n",
       "      <td>1</td>\n",
       "      <td>1</td>\n",
       "      <td>1</td>\n",
       "      <td>1</td>\n",
       "      <td>1</td>\n",
       "      <td>1</td>\n",
       "    </tr>\n",
       "    <tr>\n",
       "      <th>OM</th>\n",
       "      <td>0</td>\n",
       "      <td>0</td>\n",
       "      <td>0</td>\n",
       "      <td>0</td>\n",
       "      <td>0</td>\n",
       "      <td>0</td>\n",
       "      <td>0</td>\n",
       "    </tr>\n",
       "    <tr>\n",
       "      <th>SGN</th>\n",
       "      <td>71</td>\n",
       "      <td>71</td>\n",
       "      <td>71</td>\n",
       "      <td>71</td>\n",
       "      <td>71</td>\n",
       "      <td>71</td>\n",
       "      <td>71</td>\n",
       "    </tr>\n",
       "    <tr>\n",
       "      <th rowspan=\"3\" valign=\"top\">E18.5</th>\n",
       "      <th>HC</th>\n",
       "      <td>66</td>\n",
       "      <td>66</td>\n",
       "      <td>66</td>\n",
       "      <td>66</td>\n",
       "      <td>66</td>\n",
       "      <td>66</td>\n",
       "      <td>66</td>\n",
       "    </tr>\n",
       "    <tr>\n",
       "      <th>OM</th>\n",
       "      <td>0</td>\n",
       "      <td>0</td>\n",
       "      <td>0</td>\n",
       "      <td>0</td>\n",
       "      <td>0</td>\n",
       "      <td>0</td>\n",
       "      <td>0</td>\n",
       "    </tr>\n",
       "    <tr>\n",
       "      <th>SGN</th>\n",
       "      <td>611</td>\n",
       "      <td>611</td>\n",
       "      <td>611</td>\n",
       "      <td>611</td>\n",
       "      <td>611</td>\n",
       "      <td>611</td>\n",
       "      <td>611</td>\n",
       "    </tr>\n",
       "    <tr>\n",
       "      <th rowspan=\"3\" valign=\"top\">P3</th>\n",
       "      <th>HC</th>\n",
       "      <td>0</td>\n",
       "      <td>0</td>\n",
       "      <td>0</td>\n",
       "      <td>0</td>\n",
       "      <td>0</td>\n",
       "      <td>0</td>\n",
       "      <td>0</td>\n",
       "    </tr>\n",
       "    <tr>\n",
       "      <th>OM</th>\n",
       "      <td>0</td>\n",
       "      <td>0</td>\n",
       "      <td>0</td>\n",
       "      <td>0</td>\n",
       "      <td>0</td>\n",
       "      <td>0</td>\n",
       "      <td>0</td>\n",
       "    </tr>\n",
       "    <tr>\n",
       "      <th>SGN</th>\n",
       "      <td>500</td>\n",
       "      <td>500</td>\n",
       "      <td>500</td>\n",
       "      <td>500</td>\n",
       "      <td>500</td>\n",
       "      <td>500</td>\n",
       "      <td>500</td>\n",
       "    </tr>\n",
       "  </tbody>\n",
       "</table>\n",
       "</div>"
      ],
      "text/plain": [
       "               batch  plate  n_genes_by_counts  total_counts  \\\n",
       "devtime annot                                                  \n",
       "E14.5   HC         0      0                  0             0   \n",
       "        OM        53     53                 53            53   \n",
       "        SGN       82     82                 82            82   \n",
       "E15.5   HC         0      0                  0             0   \n",
       "        OM        68     68                 68            68   \n",
       "        SGN      161    161                161           161   \n",
       "E16.5   HC         8      8                  8             8   \n",
       "        OM        73     73                 73            73   \n",
       "        SGN      580    580                580           580   \n",
       "E17.5   HC         1      1                  1             1   \n",
       "        OM         0      0                  0             0   \n",
       "        SGN       71     71                 71            71   \n",
       "E18.5   HC        66     66                 66            66   \n",
       "        OM         0      0                  0             0   \n",
       "        SGN      611    611                611           611   \n",
       "P3      HC         0      0                  0             0   \n",
       "        OM         0      0                  0             0   \n",
       "        SGN      500    500                500           500   \n",
       "\n",
       "               total_counts_ERCC  pct_counts_ERCC  leiden  \n",
       "devtime annot                                              \n",
       "E14.5   HC                     0                0       0  \n",
       "        OM                    53               53      53  \n",
       "        SGN                   82               82      82  \n",
       "E15.5   HC                     0                0       0  \n",
       "        OM                    68               68      68  \n",
       "        SGN                  161              161     161  \n",
       "E16.5   HC                     8                8       8  \n",
       "        OM                    73               73      73  \n",
       "        SGN                  580              580     580  \n",
       "E17.5   HC                     1                1       1  \n",
       "        OM                     0                0       0  \n",
       "        SGN                   71               71      71  \n",
       "E18.5   HC                    66               66      66  \n",
       "        OM                     0                0       0  \n",
       "        SGN                  611              611     611  \n",
       "P3      HC                     0                0       0  \n",
       "        OM                     0                0       0  \n",
       "        SGN                  500              500     500  "
      ]
     },
     "execution_count": 7,
     "metadata": {},
     "output_type": "execute_result"
    }
   ],
   "source": [
    "gr.count()"
   ]
  },
  {
   "cell_type": "code",
   "execution_count": 8,
   "id": "8b71dbb5-e982-42b0-9555-0a0a5727168a",
   "metadata": {},
   "outputs": [],
   "source": [
    "cl=[]\n",
    "for c in adata.obs.leiden.cat.categories:\n",
    "    means=[]\n",
    "    for l in get_X(adata,\n",
    "                   adata.obs_names[adata.obs.leiden==c],\n",
    "                   adata.var_names,\n",
    "                   layer=None,\n",
    "                   togenelist=True):\n",
    "        means.append(np.mean(l))\n",
    "    cl.append(pd.Series(means,index=adata.var_names,name=c))\n",
    "\n",
    "clu_means=pd.concat(cl,axis=1)"
   ]
  },
  {
   "cell_type": "code",
   "execution_count": 9,
   "id": "caec740f-b96e-4bbe-90fe-5870b0e7e6f2",
   "metadata": {},
   "outputs": [],
   "source": [
    "clu_means.to_csv(\"data/allmeans.csv\")"
   ]
  },
  {
   "cell_type": "code",
   "execution_count": 10,
   "id": "706d5da9-3566-46ed-93dc-c164fd245bc5",
   "metadata": {},
   "outputs": [
    {
     "name": "stderr",
     "output_type": "stream",
     "text": [
      "/home/lfaure/miniconda3/envs/bio-gpu-18/lib/python3.8/site-packages/anndata/_core/anndata.py:1220: FutureWarning: The `inplace` parameter in pandas.Categorical.reorder_categories is deprecated and will be removed in a future version. Removing unused categories will always return a new Categorical object.\n",
      "  c.reorder_categories(natsorted(c.categories), inplace=True)\n",
      "... storing 'annot' as categorical\n"
     ]
    }
   ],
   "source": [
    "sc.tl.rank_genes_groups(adata,\"leiden\",method=\"wilcoxon\")"
   ]
  },
  {
   "cell_type": "code",
   "execution_count": 11,
   "id": "e9b393d4-8c13-4d68-9714-cd7988cc15b6",
   "metadata": {},
   "outputs": [],
   "source": [
    "writer = pd.ExcelWriter('data/All_DE.xlsx', engine='xlsxwriter')\n",
    "for cl in adata.obs.leiden.cat.categories:\n",
    "    sc.get.rank_genes_groups_df(adata,cl,pval_cutoff=0.05,log2fc_min=0).set_index(\"names\").to_excel(writer, \n",
    "                                                                     sheet_name=\"Leiden %s\" %cl)\n",
    "    \n",
    "writer.save()"
   ]
  },
  {
   "cell_type": "code",
   "execution_count": 12,
   "id": "b0b387f7-c5b4-44f2-b342-b24555fcb18b",
   "metadata": {},
   "outputs": [
    {
     "name": "stderr",
     "output_type": "stream",
     "text": [
      "Trying to set attribute `.uns` of view, copying.\n"
     ]
    }
   ],
   "source": [
    "adata=adata[~adata.obs.leiden.isin([\"18\",\"19\"])]\n",
    "sc.tl.rank_genes_groups(adata,\"leiden\",method=\"wilcoxon\")"
   ]
  },
  {
   "cell_type": "code",
   "execution_count": 13,
   "id": "497288c9-ae03-4207-819a-c7811ee8e7ff",
   "metadata": {},
   "outputs": [],
   "source": [
    "writer = pd.ExcelWriter('data/SGN_DE.xlsx', engine='xlsxwriter')\n",
    "for cl in adata.obs.leiden.cat.categories:\n",
    "    sc.get.rank_genes_groups_df(adata,cl,pval_cutoff=0.05,log2fc_min=0).set_index(\"names\").to_excel(writer, \n",
    "                                                                     sheet_name=\"Leiden %s\" %cl)\n",
    "    \n",
    "writer.save()"
   ]
  },
  {
   "cell_type": "code",
   "execution_count": 14,
   "id": "a432e28c-0c49-4ef6-b58b-fd7bdc11fbd5",
   "metadata": {},
   "outputs": [],
   "source": [
    "adata=sc.read(\"data/adata_tree_fitted.h5ad\")\n",
    "adata.var[[\"A\",\"fdr\"]].to_csv(\"data/all_diff_pseudo.csv\")"
   ]
  }
 ],
 "metadata": {
  "kernelspec": {
   "display_name": "bio-gpu-18",
   "language": "python",
   "name": "bio-gpu-18"
  },
  "language_info": {
   "codemirror_mode": {
    "name": "ipython",
    "version": 3
   },
   "file_extension": ".py",
   "mimetype": "text/x-python",
   "name": "python",
   "nbconvert_exporter": "python",
   "pygments_lexer": "ipython3",
   "version": "3.8.8"
  }
 },
 "nbformat": 4,
 "nbformat_minor": 5
}
