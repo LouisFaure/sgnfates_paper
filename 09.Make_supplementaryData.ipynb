{
 "cells": [
  {
   "cell_type": "code",
   "execution_count": 38,
   "metadata": {},
   "outputs": [],
   "source": [
    "import pandas as pd"
   ]
  },
  {
   "cell_type": "code",
   "execution_count": 39,
   "metadata": {},
   "outputs": [],
   "source": [
    "alldf=[]\n",
    "for t in [\"Ia\",\"Ib\",\"Ic\",\"II\"]:\n",
    "    df_down=pd.read_table(t+\"_alldown.tsv\",header=None)\n",
    "    df_down[\"trend\"]=\"downregulated\"\n",
    "    df_up=pd.read_table(t+\"_allup.tsv\",header=None)\n",
    "    df_up[\"trend\"]=\"upregulated\"\n",
    "    alldf=alldf+[pd.concat([df_down,df_up])]"
   ]
  },
  {
   "cell_type": "code",
   "execution_count": 46,
   "metadata": {},
   "outputs": [],
   "source": [
    "for i in range(len(alldf)):\n",
    "    alldf[i].columns=[\"gene name\",\"trend\"]"
   ]
  },
  {
   "cell_type": "code",
   "execution_count": 28,
   "metadata": {},
   "outputs": [],
   "source": [
    "fig1e=pd.read_csv(\"supp_Fig1e.csv\")\n",
    "fig2c=pd.read_csv(\"supp_Fig2c.csv\")\n",
    "fig2c.columns=[\"gene name\",\"correlation to Gata3(+)\"]\n",
    "fig3d=pd.read_csv(\"supp_Fig3d.csv\")\n",
    "fig3e=pd.read_csv(\"supp_Fig3e.csv\")\n",
    "fig3f=pd.read_csv(\"supp_Fig3f.csv\")\n",
    "fig3g=pd.read_csv(\"supp_Fig3g.csv\")\n",
    "fig4f=pd.read_csv(\"supp_Fig4f.csv\")\n",
    "fig5b=pd.read_csv(\"supp_Fig5b.csv\")\n",
    "fig5c=pd.read_csv(\"supp_Fig5c.csv\")"
   ]
  },
  {
   "cell_type": "code",
   "execution_count": 29,
   "metadata": {},
   "outputs": [],
   "source": [
    "alldf=[fig1e,fig2c]+alldf+[fig3d,fig3e,fig3f,fig3g,fig4f,fig5b,fig5c]"
   ]
  },
  {
   "cell_type": "code",
   "execution_count": 32,
   "metadata": {},
   "outputs": [],
   "source": [
    "alldf=dict(zip(['fig1e','fig2c','fig2e_Ia','fig2e_Ib','fig2e_Ic','fig2e_II','fig3d','fig3e','fig3f','fig3g','fig4f','fig5b','fig5c'],\n",
    "    alldf))"
   ]
  },
  {
   "cell_type": "code",
   "execution_count": 36,
   "metadata": {},
   "outputs": [
    {
     "data": {
      "text/html": [
       "<div>\n",
       "<style scoped>\n",
       "    .dataframe tbody tr th:only-of-type {\n",
       "        vertical-align: middle;\n",
       "    }\n",
       "\n",
       "    .dataframe tbody tr th {\n",
       "        vertical-align: top;\n",
       "    }\n",
       "\n",
       "    .dataframe thead th {\n",
       "        text-align: right;\n",
       "    }\n",
       "</style>\n",
       "<table border=\"1\" class=\"dataframe\">\n",
       "  <thead>\n",
       "    <tr style=\"text-align: right;\">\n",
       "      <th></th>\n",
       "      <th>Unnamed: 0</th>\n",
       "      <th>Actg1</th>\n",
       "      <th>Adcy1</th>\n",
       "      <th>Adgrv1</th>\n",
       "      <th>Aifm1</th>\n",
       "      <th>Alms1</th>\n",
       "      <th>Atp2b2</th>\n",
       "      <th>Bdp1</th>\n",
       "      <th>Cabp2</th>\n",
       "      <th>Cacna1d</th>\n",
       "      <th>...</th>\n",
       "      <th>Tjp2</th>\n",
       "      <th>Tmc1</th>\n",
       "      <th>Tmie</th>\n",
       "      <th>Tmprss3</th>\n",
       "      <th>Tprn</th>\n",
       "      <th>Triobp</th>\n",
       "      <th>Ush1c</th>\n",
       "      <th>Ush1g</th>\n",
       "      <th>Ush2a</th>\n",
       "      <th>Wfs1</th>\n",
       "    </tr>\n",
       "  </thead>\n",
       "  <tbody>\n",
       "    <tr>\n",
       "      <th>0</th>\n",
       "      <td>IHC</td>\n",
       "      <td>-0.211011</td>\n",
       "      <td>-0.321628</td>\n",
       "      <td>0.027839</td>\n",
       "      <td>-0.043591</td>\n",
       "      <td>-0.066444</td>\n",
       "      <td>-0.406388</td>\n",
       "      <td>-0.321859</td>\n",
       "      <td>0.679339</td>\n",
       "      <td>0.271213</td>\n",
       "      <td>...</td>\n",
       "      <td>0.442198</td>\n",
       "      <td>0.501049</td>\n",
       "      <td>0.208351</td>\n",
       "      <td>0.281318</td>\n",
       "      <td>-0.253434</td>\n",
       "      <td>-0.036883</td>\n",
       "      <td>0.107874</td>\n",
       "      <td>-0.264490</td>\n",
       "      <td>-0.199482</td>\n",
       "      <td>-0.009988</td>\n",
       "    </tr>\n",
       "    <tr>\n",
       "      <th>1</th>\n",
       "      <td>OHC</td>\n",
       "      <td>0.389559</td>\n",
       "      <td>0.593775</td>\n",
       "      <td>-0.051396</td>\n",
       "      <td>0.080477</td>\n",
       "      <td>0.122666</td>\n",
       "      <td>0.750255</td>\n",
       "      <td>0.594202</td>\n",
       "      <td>-1.254165</td>\n",
       "      <td>-0.500700</td>\n",
       "      <td>...</td>\n",
       "      <td>-0.816366</td>\n",
       "      <td>-0.925013</td>\n",
       "      <td>-0.384647</td>\n",
       "      <td>-0.519357</td>\n",
       "      <td>0.467879</td>\n",
       "      <td>0.068092</td>\n",
       "      <td>-0.199152</td>\n",
       "      <td>0.488289</td>\n",
       "      <td>0.368274</td>\n",
       "      <td>0.018439</td>\n",
       "    </tr>\n",
       "  </tbody>\n",
       "</table>\n",
       "<p>2 rows × 83 columns</p>\n",
       "</div>"
      ],
      "text/plain": [
       "  Unnamed: 0     Actg1     Adcy1    Adgrv1     Aifm1     Alms1    Atp2b2  \\\n",
       "0        IHC -0.211011 -0.321628  0.027839 -0.043591 -0.066444 -0.406388   \n",
       "1        OHC  0.389559  0.593775 -0.051396  0.080477  0.122666  0.750255   \n",
       "\n",
       "       Bdp1     Cabp2   Cacna1d  ...      Tjp2      Tmc1      Tmie   Tmprss3  \\\n",
       "0 -0.321859  0.679339  0.271213  ...  0.442198  0.501049  0.208351  0.281318   \n",
       "1  0.594202 -1.254165 -0.500700  ... -0.816366 -0.925013 -0.384647 -0.519357   \n",
       "\n",
       "       Tprn    Triobp     Ush1c     Ush1g     Ush2a      Wfs1  \n",
       "0 -0.253434 -0.036883  0.107874 -0.264490 -0.199482 -0.009988  \n",
       "1  0.467879  0.068092 -0.199152  0.488289  0.368274  0.018439  \n",
       "\n",
       "[2 rows x 83 columns]"
      ]
     },
     "execution_count": 36,
     "metadata": {},
     "output_type": "execute_result"
    }
   ],
   "source": []
  },
  {
   "cell_type": "code",
   "execution_count": 37,
   "metadata": {},
   "outputs": [],
   "source": [
    "writer = pd.ExcelWriter('supp_ALL.xlsx', engine='xlsxwriter')\n",
    "for f in alldf.keys():\n",
    "    alldf[f].to_excel(writer, sheet_name=f)\n",
    "writer.save()"
   ]
  },
  {
   "cell_type": "code",
   "execution_count": null,
   "metadata": {},
   "outputs": [],
   "source": [
    "\n",
    "\n",
    "\n",
    "\n",
    "writer = pd.ExcelWriter('All_DE.xlsx', engine='xlsxwriter')\n",
    "for cl in adata.obs.leiden.cat.categories:\n",
    "    alldemean[cl-1].to_excel(writer, sheet_name=\"Leiden \"+str(cl))\n",
    "    \n",
    "writer.save()"
   ]
  }
 ],
 "metadata": {
  "kernelspec": {
   "display_name": "Python 3",
   "language": "python",
   "name": "python3"
  },
  "language_info": {
   "codemirror_mode": {
    "name": "ipython",
    "version": 3
   },
   "file_extension": ".py",
   "mimetype": "text/x-python",
   "name": "python",
   "nbconvert_exporter": "python",
   "pygments_lexer": "ipython3",
   "version": "3.7.3"
  }
 },
 "nbformat": 4,
 "nbformat_minor": 4
}
